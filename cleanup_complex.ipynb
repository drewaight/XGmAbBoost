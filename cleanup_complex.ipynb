{
 "cells": [
  {
   "cell_type": "code",
   "execution_count": 20,
   "metadata": {},
   "outputs": [],
   "source": [
    "import sys\n",
    "import numpy as np\n",
    "import pandas as pd\n",
    "import re\n",
    "import subprocess\n",
    "from pathlib import Path\n",
    "import fileinput\n",
    "from biopandas.pdb import PandasPdb"
   ]
  },
  {
   "cell_type": "code",
   "execution_count": 21,
   "metadata": {},
   "outputs": [],
   "source": [
    "epfile=\"/media/hdd1/XGmAbBoost/5vkj_CD22_glycan/inotuzumab_5vkj_g_M/megadock/5vkj_g_M_1.pdb\"\n",
    "pdbfile=\"/media/hdd1/XGmAbBoost/5vkj_CD22_glycan/inotuzumab_5vkj_g_M/megadock/complex_0.pdb\"\n",
    "outfile=\"/media/hdd1/XGmAbBoost/5vkj_CD22_glycan/inotuzumab_5vkj_g_M/megadock/complex_0_test.pdb\""
   ]
  },
  {
   "cell_type": "code",
   "execution_count": 22,
   "metadata": {},
   "outputs": [
    {
     "data": {
      "text/plain": [
       "<biopandas.pdb.pandas_pdb.PandasPdb at 0x7ff6bcbdea90>"
      ]
     },
     "execution_count": 22,
     "metadata": {},
     "output_type": "execute_result"
    }
   ],
   "source": [
    "ppdb = PandasPdb()\n",
    "ppdb.read_pdb(pdbfile)"
   ]
  },
  {
   "cell_type": "code",
   "execution_count": 23,
   "metadata": {},
   "outputs": [
    {
     "data": {
      "text/plain": [
       "<biopandas.pdb.pandas_pdb.PandasPdb at 0x7ff6bcbdb3d0>"
      ]
     },
     "execution_count": 23,
     "metadata": {},
     "output_type": "execute_result"
    }
   ],
   "source": [
    "ppdb2= PandasPdb()\n",
    "ppdb2.read_pdb(epfile)"
   ]
  },
  {
   "cell_type": "code",
   "execution_count": 24,
   "metadata": {},
   "outputs": [],
   "source": [
    "ppdb.df['OTHERS'] = ppdb.df['OTHERS'].copy()\n",
    "hetdf = ppdb2.df['OTHERS'][ppdb2.df['OTHERS'].record_name == \"HETNAM\"]\n",
    "hetdf.line_idx = np.arange(1, len(hetdf)+1)\n",
    "ppdb.df['OTHERS'].line_idx = ppdb.df['OTHERS'].line_idx + len(hetdf)\n",
    "ppdb.df['HETATM'].line_idx = ppdb.df['HETATM'].line_idx + len(hetdf)\n",
    "ppdb.df['ATOM'].line_idx = ppdb.df['ATOM'].line_idx + len(hetdf)\n",
    "ppdb.df['OTHERS'] = hetdf.append(ppdb.df['OTHERS'])"
   ]
  },
  {
   "cell_type": "code",
   "execution_count": 25,
   "metadata": {},
   "outputs": [],
   "source": [
    "def df_to_seq(chain):\n",
    "    seq = ppdb.amino3to1()\n",
    "    seq = str(''.join(seq.loc[seq['chain_id'] == chain, 'residue_name']))\n",
    "    return(seq)"
   ]
  },
  {
   "cell_type": "code",
   "execution_count": 26,
   "metadata": {},
   "outputs": [],
   "source": [
    "df =ppdb.df['ATOM'].copy()"
   ]
  },
  {
   "cell_type": "code",
   "execution_count": 10,
   "metadata": {},
   "outputs": [],
   "source": [
    "hdf = df[(df['chain_id'] == 'H')].reset_index(drop=True)\n",
    "ldf = df[(df['chain_id'] == 'L')].reset_index(drop=True)\n",
    "adf = df[(df['chain_id'] == 'A')].reset_index(drop=True)"
   ]
  },
  {
   "cell_type": "code",
   "execution_count": 11,
   "metadata": {},
   "outputs": [],
   "source": [
    "idx = int(len(ppdb.df['ATOM'])+2)"
   ]
  },
  {
   "cell_type": "code",
   "execution_count": 12,
   "metadata": {},
   "outputs": [],
   "source": [
    "remap = pd.DataFrame(np.arange(2, idx), columns=['atom_number'])\n",
    "ppdb.df['ATOM'].loc[(ppdb.df['ATOM'].chain_id == 'A'), 'atom_number'] = remap.atom_number"
   ]
  },
  {
   "cell_type": "code",
   "execution_count": 16,
   "metadata": {},
   "outputs": [],
   "source": [
    "ppdb.to_pdb(outfile, records=None)        "
   ]
  }
 ],
 "metadata": {
  "kernelspec": {
   "display_name": "Python 3.7.6 64-bit ('base': conda)",
   "language": "python",
   "name": "python37664bitbaseconda43ded9fb91d9430a9cb5f74dd52d2ae1"
  },
  "language_info": {
   "codemirror_mode": {
    "name": "ipython",
    "version": 3
   },
   "file_extension": ".py",
   "mimetype": "text/x-python",
   "name": "python",
   "nbconvert_exporter": "python",
   "pygments_lexer": "ipython3",
   "version": "3.7.7"
  }
 },
 "nbformat": 4,
 "nbformat_minor": 4
}
